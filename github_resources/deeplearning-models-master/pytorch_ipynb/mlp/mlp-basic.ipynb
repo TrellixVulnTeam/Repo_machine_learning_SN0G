{
 "cells": [
  {
   "cell_type": "markdown",
   "metadata": {},
   "source": [
    "Deep Learning Models -- A collection of various deep learning architectures, models, and tips for TensorFlow and PyTorch in Jupyter Notebooks.\n",
    "- Author: Sebastian Raschka\n",
    "- GitHub Repository: https://github.com/rasbt/deeplearning-models"
   ]
  },
  {
   "cell_type": "code",
   "execution_count": 9,
   "metadata": {},
   "outputs": [
    {
     "ename": "ImportError",
     "evalue": "No module named 'watermark'",
     "output_type": "error",
     "traceback": [
      "\u001b[0;31m---------------------------------------------------------------------------\u001b[0m",
      "\u001b[0;31mImportError\u001b[0m                               Traceback (most recent call last)",
      "\u001b[0;32m<ipython-input-9-96fe62f160ef>\u001b[0m in \u001b[0;36m<module>\u001b[0;34m()\u001b[0m\n\u001b[0;32m----> 1\u001b[0;31m \u001b[0mget_ipython\u001b[0m\u001b[0;34m(\u001b[0m\u001b[0;34m)\u001b[0m\u001b[0;34m.\u001b[0m\u001b[0mrun_line_magic\u001b[0m\u001b[0;34m(\u001b[0m\u001b[0;34m'load_ext'\u001b[0m\u001b[0;34m,\u001b[0m \u001b[0;34m'watermark'\u001b[0m\u001b[0;34m)\u001b[0m\u001b[0;34m\u001b[0m\u001b[0m\n\u001b[0m\u001b[1;32m      2\u001b[0m \u001b[0;31m# %watermark -a 'Sebastian Raschka' -v -p torch\u001b[0m\u001b[0;34m\u001b[0m\u001b[0;34m\u001b[0m\u001b[0m\n",
      "\u001b[0;32m/anaconda3/envs/DRL/lib/python3.5/site-packages/IPython/core/interactiveshell.py\u001b[0m in \u001b[0;36mrun_line_magic\u001b[0;34m(self, magic_name, line, _stack_depth)\u001b[0m\n\u001b[1;32m   2093\u001b[0m                 \u001b[0mkwargs\u001b[0m\u001b[0;34m[\u001b[0m\u001b[0;34m'local_ns'\u001b[0m\u001b[0;34m]\u001b[0m \u001b[0;34m=\u001b[0m \u001b[0msys\u001b[0m\u001b[0;34m.\u001b[0m\u001b[0m_getframe\u001b[0m\u001b[0;34m(\u001b[0m\u001b[0mstack_depth\u001b[0m\u001b[0;34m)\u001b[0m\u001b[0;34m.\u001b[0m\u001b[0mf_locals\u001b[0m\u001b[0;34m\u001b[0m\u001b[0m\n\u001b[1;32m   2094\u001b[0m             \u001b[0;32mwith\u001b[0m \u001b[0mself\u001b[0m\u001b[0;34m.\u001b[0m\u001b[0mbuiltin_trap\u001b[0m\u001b[0;34m:\u001b[0m\u001b[0;34m\u001b[0m\u001b[0m\n\u001b[0;32m-> 2095\u001b[0;31m                 \u001b[0mresult\u001b[0m \u001b[0;34m=\u001b[0m \u001b[0mfn\u001b[0m\u001b[0;34m(\u001b[0m\u001b[0;34m*\u001b[0m\u001b[0margs\u001b[0m\u001b[0;34m,\u001b[0m\u001b[0;34m**\u001b[0m\u001b[0mkwargs\u001b[0m\u001b[0;34m)\u001b[0m\u001b[0;34m\u001b[0m\u001b[0m\n\u001b[0m\u001b[1;32m   2096\u001b[0m             \u001b[0;32mreturn\u001b[0m \u001b[0mresult\u001b[0m\u001b[0;34m\u001b[0m\u001b[0m\n\u001b[1;32m   2097\u001b[0m \u001b[0;34m\u001b[0m\u001b[0m\n",
      "\u001b[0;32m<decorator-gen-65>\u001b[0m in \u001b[0;36mload_ext\u001b[0;34m(self, module_str)\u001b[0m\n",
      "\u001b[0;32m/anaconda3/envs/DRL/lib/python3.5/site-packages/IPython/core/magic.py\u001b[0m in \u001b[0;36m<lambda>\u001b[0;34m(f, *a, **k)\u001b[0m\n\u001b[1;32m    185\u001b[0m     \u001b[0;31m# but it's overkill for just that one bit of state.\u001b[0m\u001b[0;34m\u001b[0m\u001b[0;34m\u001b[0m\u001b[0m\n\u001b[1;32m    186\u001b[0m     \u001b[0;32mdef\u001b[0m \u001b[0mmagic_deco\u001b[0m\u001b[0;34m(\u001b[0m\u001b[0marg\u001b[0m\u001b[0;34m)\u001b[0m\u001b[0;34m:\u001b[0m\u001b[0;34m\u001b[0m\u001b[0m\n\u001b[0;32m--> 187\u001b[0;31m         \u001b[0mcall\u001b[0m \u001b[0;34m=\u001b[0m \u001b[0;32mlambda\u001b[0m \u001b[0mf\u001b[0m\u001b[0;34m,\u001b[0m \u001b[0;34m*\u001b[0m\u001b[0ma\u001b[0m\u001b[0;34m,\u001b[0m \u001b[0;34m**\u001b[0m\u001b[0mk\u001b[0m\u001b[0;34m:\u001b[0m \u001b[0mf\u001b[0m\u001b[0;34m(\u001b[0m\u001b[0;34m*\u001b[0m\u001b[0ma\u001b[0m\u001b[0;34m,\u001b[0m \u001b[0;34m**\u001b[0m\u001b[0mk\u001b[0m\u001b[0;34m)\u001b[0m\u001b[0;34m\u001b[0m\u001b[0m\n\u001b[0m\u001b[1;32m    188\u001b[0m \u001b[0;34m\u001b[0m\u001b[0m\n\u001b[1;32m    189\u001b[0m         \u001b[0;32mif\u001b[0m \u001b[0mcallable\u001b[0m\u001b[0;34m(\u001b[0m\u001b[0marg\u001b[0m\u001b[0;34m)\u001b[0m\u001b[0;34m:\u001b[0m\u001b[0;34m\u001b[0m\u001b[0m\n",
      "\u001b[0;32m/anaconda3/envs/DRL/lib/python3.5/site-packages/IPython/core/magics/extension.py\u001b[0m in \u001b[0;36mload_ext\u001b[0;34m(self, module_str)\u001b[0m\n\u001b[1;32m     31\u001b[0m         \u001b[0;32mif\u001b[0m \u001b[0;32mnot\u001b[0m \u001b[0mmodule_str\u001b[0m\u001b[0;34m:\u001b[0m\u001b[0;34m\u001b[0m\u001b[0m\n\u001b[1;32m     32\u001b[0m             \u001b[0;32mraise\u001b[0m \u001b[0mUsageError\u001b[0m\u001b[0;34m(\u001b[0m\u001b[0;34m'Missing module name.'\u001b[0m\u001b[0;34m)\u001b[0m\u001b[0;34m\u001b[0m\u001b[0m\n\u001b[0;32m---> 33\u001b[0;31m         \u001b[0mres\u001b[0m \u001b[0;34m=\u001b[0m \u001b[0mself\u001b[0m\u001b[0;34m.\u001b[0m\u001b[0mshell\u001b[0m\u001b[0;34m.\u001b[0m\u001b[0mextension_manager\u001b[0m\u001b[0;34m.\u001b[0m\u001b[0mload_extension\u001b[0m\u001b[0;34m(\u001b[0m\u001b[0mmodule_str\u001b[0m\u001b[0;34m)\u001b[0m\u001b[0;34m\u001b[0m\u001b[0m\n\u001b[0m\u001b[1;32m     34\u001b[0m \u001b[0;34m\u001b[0m\u001b[0m\n\u001b[1;32m     35\u001b[0m         \u001b[0;32mif\u001b[0m \u001b[0mres\u001b[0m \u001b[0;34m==\u001b[0m \u001b[0;34m'already loaded'\u001b[0m\u001b[0;34m:\u001b[0m\u001b[0;34m\u001b[0m\u001b[0m\n",
      "\u001b[0;32m/anaconda3/envs/DRL/lib/python3.5/site-packages/IPython/core/extensions.py\u001b[0m in \u001b[0;36mload_extension\u001b[0;34m(self, module_str)\u001b[0m\n\u001b[1;32m     83\u001b[0m             \u001b[0;32mif\u001b[0m \u001b[0mmodule_str\u001b[0m \u001b[0;32mnot\u001b[0m \u001b[0;32min\u001b[0m \u001b[0msys\u001b[0m\u001b[0;34m.\u001b[0m\u001b[0mmodules\u001b[0m\u001b[0;34m:\u001b[0m\u001b[0;34m\u001b[0m\u001b[0m\n\u001b[1;32m     84\u001b[0m                 \u001b[0;32mwith\u001b[0m \u001b[0mprepended_to_syspath\u001b[0m\u001b[0;34m(\u001b[0m\u001b[0mself\u001b[0m\u001b[0;34m.\u001b[0m\u001b[0mipython_extension_dir\u001b[0m\u001b[0;34m)\u001b[0m\u001b[0;34m:\u001b[0m\u001b[0;34m\u001b[0m\u001b[0m\n\u001b[0;32m---> 85\u001b[0;31m                     \u001b[0mmod\u001b[0m \u001b[0;34m=\u001b[0m \u001b[0mimport_module\u001b[0m\u001b[0;34m(\u001b[0m\u001b[0mmodule_str\u001b[0m\u001b[0;34m)\u001b[0m\u001b[0;34m\u001b[0m\u001b[0m\n\u001b[0m\u001b[1;32m     86\u001b[0m                     \u001b[0;32mif\u001b[0m \u001b[0mmod\u001b[0m\u001b[0;34m.\u001b[0m\u001b[0m__file__\u001b[0m\u001b[0;34m.\u001b[0m\u001b[0mstartswith\u001b[0m\u001b[0;34m(\u001b[0m\u001b[0mself\u001b[0m\u001b[0;34m.\u001b[0m\u001b[0mipython_extension_dir\u001b[0m\u001b[0;34m)\u001b[0m\u001b[0;34m:\u001b[0m\u001b[0;34m\u001b[0m\u001b[0m\n\u001b[1;32m     87\u001b[0m                         print((\"Loading extensions from {dir} is deprecated. \"\n",
      "\u001b[0;32m/anaconda3/envs/DRL/lib/python3.5/importlib/__init__.py\u001b[0m in \u001b[0;36mimport_module\u001b[0;34m(name, package)\u001b[0m\n\u001b[1;32m    124\u001b[0m                 \u001b[0;32mbreak\u001b[0m\u001b[0;34m\u001b[0m\u001b[0m\n\u001b[1;32m    125\u001b[0m             \u001b[0mlevel\u001b[0m \u001b[0;34m+=\u001b[0m \u001b[0;36m1\u001b[0m\u001b[0;34m\u001b[0m\u001b[0m\n\u001b[0;32m--> 126\u001b[0;31m     \u001b[0;32mreturn\u001b[0m \u001b[0m_bootstrap\u001b[0m\u001b[0;34m.\u001b[0m\u001b[0m_gcd_import\u001b[0m\u001b[0;34m(\u001b[0m\u001b[0mname\u001b[0m\u001b[0;34m[\u001b[0m\u001b[0mlevel\u001b[0m\u001b[0;34m:\u001b[0m\u001b[0;34m]\u001b[0m\u001b[0;34m,\u001b[0m \u001b[0mpackage\u001b[0m\u001b[0;34m,\u001b[0m \u001b[0mlevel\u001b[0m\u001b[0;34m)\u001b[0m\u001b[0;34m\u001b[0m\u001b[0m\n\u001b[0m\u001b[1;32m    127\u001b[0m \u001b[0;34m\u001b[0m\u001b[0m\n\u001b[1;32m    128\u001b[0m \u001b[0;34m\u001b[0m\u001b[0m\n",
      "\u001b[0;32m/anaconda3/envs/DRL/lib/python3.5/importlib/_bootstrap.py\u001b[0m in \u001b[0;36m_gcd_import\u001b[0;34m(name, package, level)\u001b[0m\n",
      "\u001b[0;32m/anaconda3/envs/DRL/lib/python3.5/importlib/_bootstrap.py\u001b[0m in \u001b[0;36m_find_and_load\u001b[0;34m(name, import_)\u001b[0m\n",
      "\u001b[0;32m/anaconda3/envs/DRL/lib/python3.5/importlib/_bootstrap.py\u001b[0m in \u001b[0;36m_find_and_load_unlocked\u001b[0;34m(name, import_)\u001b[0m\n",
      "\u001b[0;31mImportError\u001b[0m: No module named 'watermark'"
     ]
    }
   ],
   "source": [
    "%load_ext watermark\n",
    "# %watermark -a 'Sebastian Raschka' -v -p torch"
   ]
  },
  {
   "cell_type": "markdown",
   "metadata": {},
   "source": [
    "- Runs on CPU or GPU (if available)"
   ]
  },
  {
   "cell_type": "markdown",
   "metadata": {},
   "source": [
    "# Model Zoo -- Multilayer Perceptron"
   ]
  },
  {
   "cell_type": "markdown",
   "metadata": {},
   "source": [
    "## Imports"
   ]
  },
  {
   "cell_type": "code",
   "execution_count": 1,
   "metadata": {},
   "outputs": [],
   "source": [
    "import time\n",
    "import numpy as np\n",
    "from torchvision import datasets\n",
    "from torchvision import transforms\n",
    "from torch.utils.data import DataLoader\n",
    "import torch.nn.functional as F\n",
    "import torch\n",
    "\n",
    "\n",
    "if torch.cuda.is_available():\n",
    "    torch.backends.cudnn.deterministic = True"
   ]
  },
  {
   "cell_type": "markdown",
   "metadata": {},
   "source": [
    "## Settings and Dataset"
   ]
  },
  {
   "cell_type": "code",
   "execution_count": 2,
   "metadata": {},
   "outputs": [
    {
     "name": "stderr",
     "output_type": "stream",
     "text": [
      "0.1%"
     ]
    },
    {
     "name": "stdout",
     "output_type": "stream",
     "text": [
      "Downloading http://yann.lecun.com/exdb/mnist/train-images-idx3-ubyte.gz to data/MNIST/raw/train-images-idx3-ubyte.gz\n"
     ]
    },
    {
     "name": "stderr",
     "output_type": "stream",
     "text": [
      "100.1%"
     ]
    },
    {
     "name": "stdout",
     "output_type": "stream",
     "text": [
      "Extracting data/MNIST/raw/train-images-idx3-ubyte.gz\n"
     ]
    },
    {
     "name": "stderr",
     "output_type": "stream",
     "text": [
      "113.5%"
     ]
    },
    {
     "name": "stdout",
     "output_type": "stream",
     "text": [
      "Downloading http://yann.lecun.com/exdb/mnist/train-labels-idx1-ubyte.gz to data/MNIST/raw/train-labels-idx1-ubyte.gz\n",
      "Extracting data/MNIST/raw/train-labels-idx1-ubyte.gz\n",
      "Downloading http://yann.lecun.com/exdb/mnist/t10k-images-idx3-ubyte.gz to data/MNIST/raw/t10k-images-idx3-ubyte.gz\n"
     ]
    },
    {
     "name": "stderr",
     "output_type": "stream",
     "text": [
      "100.4%"
     ]
    },
    {
     "name": "stdout",
     "output_type": "stream",
     "text": [
      "Extracting data/MNIST/raw/t10k-images-idx3-ubyte.gz\n",
      "Downloading http://yann.lecun.com/exdb/mnist/t10k-labels-idx1-ubyte.gz to data/MNIST/raw/t10k-labels-idx1-ubyte.gz\n"
     ]
    },
    {
     "name": "stderr",
     "output_type": "stream",
     "text": [
      "180.4%"
     ]
    },
    {
     "name": "stdout",
     "output_type": "stream",
     "text": [
      "Extracting data/MNIST/raw/t10k-labels-idx1-ubyte.gz\n",
      "Processing...\n",
      "Done!\n",
      "Image batch dimensions: torch.Size([64, 1, 28, 28])\n",
      "Image label dimensions: torch.Size([64])\n"
     ]
    }
   ],
   "source": [
    "##########################\n",
    "### SETTINGS\n",
    "##########################\n",
    "\n",
    "# Device\n",
    "device = torch.device(\"cuda:3\" if torch.cuda.is_available() else \"cpu\")\n",
    "\n",
    "# Hyperparameters\n",
    "random_seed = 1\n",
    "learning_rate = 0.1\n",
    "num_epochs = 10\n",
    "batch_size = 64\n",
    "\n",
    "# Architecture\n",
    "num_features = 784\n",
    "num_hidden_1 = 128\n",
    "num_hidden_2 = 256\n",
    "num_classes = 10\n",
    "\n",
    "\n",
    "##########################\n",
    "### MNIST DATASET\n",
    "##########################\n",
    "\n",
    "# Note transforms.ToTensor() scales input images\n",
    "# to 0-1 range\n",
    "train_dataset = datasets.MNIST(root='data', \n",
    "                               train=True, \n",
    "                               transform=transforms.ToTensor(),\n",
    "                               download=True)\n",
    "\n",
    "test_dataset = datasets.MNIST(root='data', \n",
    "                              train=False, \n",
    "                              transform=transforms.ToTensor())\n",
    "\n",
    "\n",
    "train_loader = DataLoader(dataset=train_dataset, \n",
    "                          batch_size=batch_size, \n",
    "                          shuffle=True)\n",
    "\n",
    "test_loader = DataLoader(dataset=test_dataset, \n",
    "                         batch_size=batch_size, \n",
    "                         shuffle=False)\n",
    "\n",
    "# Checking the dataset\n",
    "for images, labels in train_loader:  \n",
    "    print('Image batch dimensions:', images.shape)\n",
    "    print('Image label dimensions:', labels.shape)\n",
    "    break"
   ]
  },
  {
   "cell_type": "code",
   "execution_count": 3,
   "metadata": {},
   "outputs": [],
   "source": [
    "##########################\n",
    "### MODEL\n",
    "##########################\n",
    "\n",
    "class MultilayerPerceptron(torch.nn.Module):\n",
    "\n",
    "    def __init__(self, num_features, num_classes):\n",
    "        super(MultilayerPerceptron, self).__init__()\n",
    "        \n",
    "        ### 1st hidden layer\n",
    "        self.linear_1 = torch.nn.Linear(num_features, num_hidden_1)\n",
    "        # The following two lines are not necessary, \n",
    "        # but used here to demonstrate how to access the weights\n",
    "        # and use a different weight initialization.\n",
    "        # By default, PyTorch uses Xavier/Glorot initialization, which\n",
    "        # should usually be preferred.\n",
    "        self.linear_1.weight.detach().normal_(0.0, 0.1)\n",
    "        self.linear_1.bias.detach().zero_()\n",
    "        \n",
    "        ### 2nd hidden layer\n",
    "        self.linear_2 = torch.nn.Linear(num_hidden_1, num_hidden_2)\n",
    "        self.linear_2.weight.detach().normal_(0.0, 0.1)\n",
    "        self.linear_2.bias.detach().zero_()\n",
    "        \n",
    "        ### Output layer\n",
    "        self.linear_out = torch.nn.Linear(num_hidden_2, num_classes)\n",
    "        self.linear_out.weight.detach().normal_(0.0, 0.1)\n",
    "        self.linear_out.bias.detach().zero_()\n",
    "        \n",
    "    def forward(self, x):\n",
    "        out = self.linear_1(x)\n",
    "        out = F.relu(out)\n",
    "        out = self.linear_2(out)\n",
    "        out = F.relu(out)\n",
    "        logits = self.linear_out(out)\n",
    "        probas = F.log_softmax(logits, dim=1)\n",
    "        return logits, probas\n",
    "\n",
    "    \n",
    "torch.manual_seed(random_seed)\n",
    "model = MultilayerPerceptron(num_features=num_features,\n",
    "                             num_classes=num_classes)\n",
    "\n",
    "model = model.to(device)\n",
    "\n",
    "optimizer = torch.optim.SGD(model.parameters(), lr=learning_rate)  "
   ]
  },
  {
   "cell_type": "code",
   "execution_count": 4,
   "metadata": {},
   "outputs": [
    {
     "name": "stdout",
     "output_type": "stream",
     "text": [
      "Epoch: 001/010 | Batch 000/938 | Cost: 2.4231\n",
      "Epoch: 001/010 | Batch 050/938 | Cost: 0.7213\n",
      "Epoch: 001/010 | Batch 100/938 | Cost: 0.3137\n",
      "Epoch: 001/010 | Batch 150/938 | Cost: 0.4774\n",
      "Epoch: 001/010 | Batch 200/938 | Cost: 0.3311\n",
      "Epoch: 001/010 | Batch 250/938 | Cost: 0.3082\n",
      "Epoch: 001/010 | Batch 300/938 | Cost: 0.3940\n",
      "Epoch: 001/010 | Batch 350/938 | Cost: 0.2292\n",
      "Epoch: 001/010 | Batch 400/938 | Cost: 0.0837\n",
      "Epoch: 001/010 | Batch 450/938 | Cost: 0.2238\n",
      "Epoch: 001/010 | Batch 500/938 | Cost: 0.2501\n",
      "Epoch: 001/010 | Batch 550/938 | Cost: 0.1543\n",
      "Epoch: 001/010 | Batch 600/938 | Cost: 0.2353\n",
      "Epoch: 001/010 | Batch 650/938 | Cost: 0.4138\n",
      "Epoch: 001/010 | Batch 700/938 | Cost: 0.2955\n",
      "Epoch: 001/010 | Batch 750/938 | Cost: 0.3486\n",
      "Epoch: 001/010 | Batch 800/938 | Cost: 0.1391\n",
      "Epoch: 001/010 | Batch 850/938 | Cost: 0.0675\n",
      "Epoch: 001/010 | Batch 900/938 | Cost: 0.2827\n",
      "Epoch: 001/010 training accuracy: 94.91%\n",
      "Time elapsed: 0.31 min\n",
      "Epoch: 002/010 | Batch 000/938 | Cost: 0.3238\n",
      "Epoch: 002/010 | Batch 050/938 | Cost: 0.2811\n",
      "Epoch: 002/010 | Batch 100/938 | Cost: 0.0927\n",
      "Epoch: 002/010 | Batch 150/938 | Cost: 0.2299\n",
      "Epoch: 002/010 | Batch 200/938 | Cost: 0.2278\n",
      "Epoch: 002/010 | Batch 250/938 | Cost: 0.1625\n",
      "Epoch: 002/010 | Batch 300/938 | Cost: 0.0548\n",
      "Epoch: 002/010 | Batch 350/938 | Cost: 0.2394\n",
      "Epoch: 002/010 | Batch 400/938 | Cost: 0.0539\n",
      "Epoch: 002/010 | Batch 450/938 | Cost: 0.0970\n",
      "Epoch: 002/010 | Batch 500/938 | Cost: 0.2397\n",
      "Epoch: 002/010 | Batch 550/938 | Cost: 0.2118\n",
      "Epoch: 002/010 | Batch 600/938 | Cost: 0.1624\n",
      "Epoch: 002/010 | Batch 650/938 | Cost: 0.1748\n",
      "Epoch: 002/010 | Batch 700/938 | Cost: 0.1976\n",
      "Epoch: 002/010 | Batch 750/938 | Cost: 0.0882\n",
      "Epoch: 002/010 | Batch 800/938 | Cost: 0.1707\n",
      "Epoch: 002/010 | Batch 850/938 | Cost: 0.1044\n",
      "Epoch: 002/010 | Batch 900/938 | Cost: 0.1561\n",
      "Epoch: 002/010 training accuracy: 96.60%\n",
      "Time elapsed: 0.61 min\n",
      "Epoch: 003/010 | Batch 000/938 | Cost: 0.1087\n",
      "Epoch: 003/010 | Batch 050/938 | Cost: 0.0973\n",
      "Epoch: 003/010 | Batch 100/938 | Cost: 0.0779\n",
      "Epoch: 003/010 | Batch 150/938 | Cost: 0.1931\n",
      "Epoch: 003/010 | Batch 200/938 | Cost: 0.1215\n",
      "Epoch: 003/010 | Batch 250/938 | Cost: 0.2556\n",
      "Epoch: 003/010 | Batch 300/938 | Cost: 0.0631\n",
      "Epoch: 003/010 | Batch 350/938 | Cost: 0.1165\n",
      "Epoch: 003/010 | Batch 400/938 | Cost: 0.0819\n",
      "Epoch: 003/010 | Batch 450/938 | Cost: 0.0831\n",
      "Epoch: 003/010 | Batch 500/938 | Cost: 0.0700\n",
      "Epoch: 003/010 | Batch 550/938 | Cost: 0.0503\n",
      "Epoch: 003/010 | Batch 600/938 | Cost: 0.1976\n",
      "Epoch: 003/010 | Batch 650/938 | Cost: 0.1189\n",
      "Epoch: 003/010 | Batch 700/938 | Cost: 0.2044\n",
      "Epoch: 003/010 | Batch 750/938 | Cost: 0.0617\n",
      "Epoch: 003/010 | Batch 800/938 | Cost: 0.0210\n",
      "Epoch: 003/010 | Batch 850/938 | Cost: 0.0173\n",
      "Epoch: 003/010 | Batch 900/938 | Cost: 0.0623\n",
      "Epoch: 003/010 training accuracy: 97.71%\n",
      "Time elapsed: 0.94 min\n",
      "Epoch: 004/010 | Batch 000/938 | Cost: 0.0069\n",
      "Epoch: 004/010 | Batch 050/938 | Cost: 0.0340\n",
      "Epoch: 004/010 | Batch 100/938 | Cost: 0.1647\n",
      "Epoch: 004/010 | Batch 150/938 | Cost: 0.0579\n",
      "Epoch: 004/010 | Batch 200/938 | Cost: 0.0313\n",
      "Epoch: 004/010 | Batch 250/938 | Cost: 0.1505\n",
      "Epoch: 004/010 | Batch 300/938 | Cost: 0.2218\n",
      "Epoch: 004/010 | Batch 350/938 | Cost: 0.0235\n",
      "Epoch: 004/010 | Batch 400/938 | Cost: 0.1183\n",
      "Epoch: 004/010 | Batch 450/938 | Cost: 0.1839\n",
      "Epoch: 004/010 | Batch 500/938 | Cost: 0.1409\n",
      "Epoch: 004/010 | Batch 550/938 | Cost: 0.1065\n",
      "Epoch: 004/010 | Batch 600/938 | Cost: 0.0352\n",
      "Epoch: 004/010 | Batch 650/938 | Cost: 0.0510\n",
      "Epoch: 004/010 | Batch 700/938 | Cost: 0.1925\n",
      "Epoch: 004/010 | Batch 750/938 | Cost: 0.1524\n",
      "Epoch: 004/010 | Batch 800/938 | Cost: 0.0756\n",
      "Epoch: 004/010 | Batch 850/938 | Cost: 0.0516\n",
      "Epoch: 004/010 | Batch 900/938 | Cost: 0.1469\n",
      "Epoch: 004/010 training accuracy: 97.99%\n",
      "Time elapsed: 1.25 min\n",
      "Epoch: 005/010 | Batch 000/938 | Cost: 0.0231\n",
      "Epoch: 005/010 | Batch 050/938 | Cost: 0.0152\n",
      "Epoch: 005/010 | Batch 100/938 | Cost: 0.1190\n",
      "Epoch: 005/010 | Batch 150/938 | Cost: 0.0676\n",
      "Epoch: 005/010 | Batch 200/938 | Cost: 0.0427\n",
      "Epoch: 005/010 | Batch 250/938 | Cost: 0.0835\n",
      "Epoch: 005/010 | Batch 300/938 | Cost: 0.0689\n",
      "Epoch: 005/010 | Batch 350/938 | Cost: 0.0931\n",
      "Epoch: 005/010 | Batch 400/938 | Cost: 0.0372\n",
      "Epoch: 005/010 | Batch 450/938 | Cost: 0.0500\n",
      "Epoch: 005/010 | Batch 500/938 | Cost: 0.1297\n",
      "Epoch: 005/010 | Batch 550/938 | Cost: 0.1113\n",
      "Epoch: 005/010 | Batch 600/938 | Cost: 0.0656\n",
      "Epoch: 005/010 | Batch 650/938 | Cost: 0.0263\n",
      "Epoch: 005/010 | Batch 700/938 | Cost: 0.0549\n",
      "Epoch: 005/010 | Batch 750/938 | Cost: 0.0457\n",
      "Epoch: 005/010 | Batch 800/938 | Cost: 0.0441\n",
      "Epoch: 005/010 | Batch 850/938 | Cost: 0.1144\n",
      "Epoch: 005/010 | Batch 900/938 | Cost: 0.0368\n",
      "Epoch: 005/010 training accuracy: 98.57%\n",
      "Time elapsed: 1.55 min\n",
      "Epoch: 006/010 | Batch 000/938 | Cost: 0.1083\n",
      "Epoch: 006/010 | Batch 050/938 | Cost: 0.0894\n",
      "Epoch: 006/010 | Batch 100/938 | Cost: 0.0725\n",
      "Epoch: 006/010 | Batch 150/938 | Cost: 0.0323\n",
      "Epoch: 006/010 | Batch 200/938 | Cost: 0.0379\n",
      "Epoch: 006/010 | Batch 250/938 | Cost: 0.0745\n",
      "Epoch: 006/010 | Batch 300/938 | Cost: 0.0838\n",
      "Epoch: 006/010 | Batch 350/938 | Cost: 0.0623\n",
      "Epoch: 006/010 | Batch 400/938 | Cost: 0.1180\n",
      "Epoch: 006/010 | Batch 450/938 | Cost: 0.0510\n",
      "Epoch: 006/010 | Batch 500/938 | Cost: 0.0651\n",
      "Epoch: 006/010 | Batch 550/938 | Cost: 0.1770\n",
      "Epoch: 006/010 | Batch 600/938 | Cost: 0.0523\n",
      "Epoch: 006/010 | Batch 650/938 | Cost: 0.0381\n",
      "Epoch: 006/010 | Batch 700/938 | Cost: 0.0792\n",
      "Epoch: 006/010 | Batch 750/938 | Cost: 0.1158\n",
      "Epoch: 006/010 | Batch 800/938 | Cost: 0.0600\n",
      "Epoch: 006/010 | Batch 850/938 | Cost: 0.0713\n",
      "Epoch: 006/010 | Batch 900/938 | Cost: 0.1810\n",
      "Epoch: 006/010 training accuracy: 98.87%\n",
      "Time elapsed: 1.86 min\n",
      "Epoch: 007/010 | Batch 000/938 | Cost: 0.0053\n",
      "Epoch: 007/010 | Batch 050/938 | Cost: 0.0924\n",
      "Epoch: 007/010 | Batch 100/938 | Cost: 0.0335\n",
      "Epoch: 007/010 | Batch 150/938 | Cost: 0.1156\n",
      "Epoch: 007/010 | Batch 200/938 | Cost: 0.0300\n",
      "Epoch: 007/010 | Batch 250/938 | Cost: 0.0427\n",
      "Epoch: 007/010 | Batch 300/938 | Cost: 0.0639\n",
      "Epoch: 007/010 | Batch 350/938 | Cost: 0.0352\n",
      "Epoch: 007/010 | Batch 400/938 | Cost: 0.0247\n",
      "Epoch: 007/010 | Batch 450/938 | Cost: 0.0496\n",
      "Epoch: 007/010 | Batch 500/938 | Cost: 0.0153\n",
      "Epoch: 007/010 | Batch 550/938 | Cost: 0.0776\n",
      "Epoch: 007/010 | Batch 600/938 | Cost: 0.1069\n",
      "Epoch: 007/010 | Batch 650/938 | Cost: 0.0846\n",
      "Epoch: 007/010 | Batch 700/938 | Cost: 0.0305\n",
      "Epoch: 007/010 | Batch 750/938 | Cost: 0.0697\n",
      "Epoch: 007/010 | Batch 800/938 | Cost: 0.0128\n",
      "Epoch: 007/010 | Batch 850/938 | Cost: 0.0646\n",
      "Epoch: 007/010 | Batch 900/938 | Cost: 0.0544\n",
      "Epoch: 007/010 training accuracy: 99.01%\n",
      "Time elapsed: 2.19 min\n",
      "Epoch: 008/010 | Batch 000/938 | Cost: 0.0216\n",
      "Epoch: 008/010 | Batch 050/938 | Cost: 0.0197\n",
      "Epoch: 008/010 | Batch 100/938 | Cost: 0.0415\n",
      "Epoch: 008/010 | Batch 150/938 | Cost: 0.0310\n",
      "Epoch: 008/010 | Batch 200/938 | Cost: 0.0067\n",
      "Epoch: 008/010 | Batch 250/938 | Cost: 0.0555\n",
      "Epoch: 008/010 | Batch 300/938 | Cost: 0.0277\n",
      "Epoch: 008/010 | Batch 350/938 | Cost: 0.0291\n",
      "Epoch: 008/010 | Batch 400/938 | Cost: 0.0115\n",
      "Epoch: 008/010 | Batch 450/938 | Cost: 0.0051\n",
      "Epoch: 008/010 | Batch 500/938 | Cost: 0.0126\n",
      "Epoch: 008/010 | Batch 550/938 | Cost: 0.0045\n",
      "Epoch: 008/010 | Batch 600/938 | Cost: 0.0230\n",
      "Epoch: 008/010 | Batch 650/938 | Cost: 0.0380\n",
      "Epoch: 008/010 | Batch 700/938 | Cost: 0.0421\n",
      "Epoch: 008/010 | Batch 750/938 | Cost: 0.0180\n",
      "Epoch: 008/010 | Batch 800/938 | Cost: 0.0429\n",
      "Epoch: 008/010 | Batch 850/938 | Cost: 0.0054\n",
      "Epoch: 008/010 | Batch 900/938 | Cost: 0.0505\n",
      "Epoch: 008/010 training accuracy: 99.24%\n",
      "Time elapsed: 2.53 min\n",
      "Epoch: 009/010 | Batch 000/938 | Cost: 0.0342\n",
      "Epoch: 009/010 | Batch 050/938 | Cost: 0.0555\n",
      "Epoch: 009/010 | Batch 100/938 | Cost: 0.0120\n",
      "Epoch: 009/010 | Batch 150/938 | Cost: 0.0162\n",
      "Epoch: 009/010 | Batch 200/938 | Cost: 0.0818\n",
      "Epoch: 009/010 | Batch 250/938 | Cost: 0.0054\n",
      "Epoch: 009/010 | Batch 300/938 | Cost: 0.0077\n",
      "Epoch: 009/010 | Batch 350/938 | Cost: 0.0060\n",
      "Epoch: 009/010 | Batch 400/938 | Cost: 0.0536\n",
      "Epoch: 009/010 | Batch 450/938 | Cost: 0.0200\n",
      "Epoch: 009/010 | Batch 500/938 | Cost: 0.0264\n",
      "Epoch: 009/010 | Batch 550/938 | Cost: 0.0119\n",
      "Epoch: 009/010 | Batch 600/938 | Cost: 0.0875\n",
      "Epoch: 009/010 | Batch 650/938 | Cost: 0.0457\n",
      "Epoch: 009/010 | Batch 700/938 | Cost: 0.0168\n"
     ]
    },
    {
     "name": "stdout",
     "output_type": "stream",
     "text": [
      "Epoch: 009/010 | Batch 750/938 | Cost: 0.0587\n",
      "Epoch: 009/010 | Batch 800/938 | Cost: 0.0069\n",
      "Epoch: 009/010 | Batch 850/938 | Cost: 0.1433\n",
      "Epoch: 009/010 | Batch 900/938 | Cost: 0.0032\n",
      "Epoch: 009/010 training accuracy: 99.29%\n",
      "Time elapsed: 2.91 min\n",
      "Epoch: 010/010 | Batch 000/938 | Cost: 0.0219\n",
      "Epoch: 010/010 | Batch 050/938 | Cost: 0.0170\n",
      "Epoch: 010/010 | Batch 100/938 | Cost: 0.0151\n",
      "Epoch: 010/010 | Batch 150/938 | Cost: 0.0105\n",
      "Epoch: 010/010 | Batch 200/938 | Cost: 0.0458\n",
      "Epoch: 010/010 | Batch 250/938 | Cost: 0.0236\n",
      "Epoch: 010/010 | Batch 300/938 | Cost: 0.0115\n",
      "Epoch: 010/010 | Batch 350/938 | Cost: 0.0164\n",
      "Epoch: 010/010 | Batch 400/938 | Cost: 0.0016\n",
      "Epoch: 010/010 | Batch 450/938 | Cost: 0.0090\n",
      "Epoch: 010/010 | Batch 500/938 | Cost: 0.0977\n",
      "Epoch: 010/010 | Batch 550/938 | Cost: 0.0118\n",
      "Epoch: 010/010 | Batch 600/938 | Cost: 0.0292\n",
      "Epoch: 010/010 | Batch 650/938 | Cost: 0.0494\n",
      "Epoch: 010/010 | Batch 700/938 | Cost: 0.0170\n",
      "Epoch: 010/010 | Batch 750/938 | Cost: 0.0091\n",
      "Epoch: 010/010 | Batch 800/938 | Cost: 0.0082\n",
      "Epoch: 010/010 | Batch 850/938 | Cost: 0.0088\n",
      "Epoch: 010/010 | Batch 900/938 | Cost: 0.0408\n",
      "Epoch: 010/010 training accuracy: 98.97%\n",
      "Time elapsed: 3.25 min\n",
      "Total Training Time: 3.25 min\n"
     ]
    }
   ],
   "source": [
    "def compute_accuracy(net, data_loader):\n",
    "    net.eval()\n",
    "    correct_pred, num_examples = 0, 0\n",
    "    with torch.no_grad():\n",
    "        for features, targets in data_loader:\n",
    "            features = features.view(-1, 28*28).to(device)\n",
    "            targets = targets.to(device)\n",
    "            logits, probas = net(features)\n",
    "            _, predicted_labels = torch.max(probas, 1)\n",
    "            num_examples += targets.size(0)\n",
    "            correct_pred += (predicted_labels == targets).sum()\n",
    "        return correct_pred.float()/num_examples * 100\n",
    "    \n",
    "\n",
    "start_time = time.time()\n",
    "for epoch in range(num_epochs):\n",
    "    model.train()\n",
    "    for batch_idx, (features, targets) in enumerate(train_loader):\n",
    "        \n",
    "        features = features.view(-1, 28*28).to(device)\n",
    "        targets = targets.to(device)\n",
    "            \n",
    "        ### FORWARD AND BACK PROP\n",
    "        logits, probas = model(features)\n",
    "        cost = F.cross_entropy(logits, targets)\n",
    "        optimizer.zero_grad()\n",
    "        \n",
    "        cost.backward()\n",
    "        \n",
    "        ### UPDATE MODEL PARAMETERS\n",
    "        optimizer.step()\n",
    "        \n",
    "        ### LOGGING\n",
    "        if not batch_idx % 50:\n",
    "            print ('Epoch: %03d/%03d | Batch %03d/%03d | Cost: %.4f' \n",
    "                   %(epoch+1, num_epochs, batch_idx, \n",
    "                     len(train_loader), cost))\n",
    "\n",
    "    with torch.set_grad_enabled(False):\n",
    "        print('Epoch: %03d/%03d training accuracy: %.2f%%' % (\n",
    "              epoch+1, num_epochs, \n",
    "              compute_accuracy(model, train_loader)))\n",
    "        \n",
    "    print('Time elapsed: %.2f min' % ((time.time() - start_time)/60))\n",
    "    \n",
    "print('Total Training Time: %.2f min' % ((time.time() - start_time)/60))"
   ]
  },
  {
   "cell_type": "code",
   "execution_count": 6,
   "metadata": {},
   "outputs": [
    {
     "name": "stdout",
     "output_type": "stream",
     "text": [
      "Test accuracy: 97.57%\n"
     ]
    }
   ],
   "source": [
    "print('Test accuracy: %.2f%%' % (compute_accuracy(model, test_loader)))"
   ]
  },
  {
   "cell_type": "code",
   "execution_count": 7,
   "metadata": {},
   "outputs": [
    {
     "name": "stderr",
     "output_type": "stream",
     "text": [
      "UsageError: Line magic function `%watermark` not found.\n"
     ]
    }
   ],
   "source": [
    "%watermark -iv"
   ]
  },
  {
   "cell_type": "code",
   "execution_count": null,
   "metadata": {},
   "outputs": [],
   "source": []
  }
 ],
 "metadata": {
  "kernelspec": {
   "display_name": "Python 3",
   "language": "python",
   "name": "python3"
  },
  "language_info": {
   "codemirror_mode": {
    "name": "ipython",
    "version": 3
   },
   "file_extension": ".py",
   "mimetype": "text/x-python",
   "name": "python",
   "nbconvert_exporter": "python",
   "pygments_lexer": "ipython3",
   "version": "3.5.4"
  },
  "toc": {
   "nav_menu": {},
   "number_sections": true,
   "sideBar": true,
   "skip_h1_title": false,
   "title_cell": "Table of Contents",
   "title_sidebar": "Contents",
   "toc_cell": false,
   "toc_position": {},
   "toc_section_display": true,
   "toc_window_display": false
  }
 },
 "nbformat": 4,
 "nbformat_minor": 2
}
